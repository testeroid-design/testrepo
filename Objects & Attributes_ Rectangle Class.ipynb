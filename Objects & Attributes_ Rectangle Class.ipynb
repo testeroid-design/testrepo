{
 "cells": [
  {
   "cell_type": "markdown",
   "id": "bce9e5fd-c838-4782-a3b5-2de2ea6c8698",
   "metadata": {},
   "source": [
    "# LAB: Objects & Attributes: Rectancle Class"
   ]
  },
  {
   "cell_type": "markdown",
   "id": "ff1b0de9-db44-47b9-96d9-7cfa62fda8c1",
   "metadata": {},
   "source": [
    "### Creating a Rectangle class"
   ]
  },
  {
   "cell_type": "code",
   "execution_count": null,
   "id": "91fa2d96-311f-4673-adde-3c013e272128",
   "metadata": {},
   "outputs": [],
   "source": [
    "# Import the library\n",
    "\n",
    "import matplotlib.pyplot as plt\n",
    "%matplotlib inline  "
   ]
  },
  {
   "cell_type": "code",
   "execution_count": null,
   "id": "1ac16c6c-080f-48cc-85ec-9d60f7b7d5bd",
   "metadata": {},
   "outputs": [],
   "source": [
    "# Create a new Rectangle class for creating a rectancle object\n",
    "\n",
    "class Rectangle(object):\n",
    "    \n",
    "    # Constructor\n",
    "    def _init_(self, width = 2, height = 3, color = 'g'):\n",
    "        self.height = height\n",
    "        self.width = width\n",
    "        self.colo = color"
   ]
  },
  {
   "cell_type": "code",
   "execution_count": null,
   "id": "f3a34dc0-a5db-44c1-97d1-dc452c05f745",
   "metadata": {},
   "outputs": [],
   "source": [
    "# Apply methof drawRectancle() to draw object\n",
    "\n",
    "class Rectangle(object):\n",
    "    \n",
    "    # Constructor\n",
    "    def _init_(self, width = 2, height = 3, color = 'g'):\n",
    "        self.height = height\n",
    "        self.width = width\n",
    "        self.colo = color\n",
    "        \n",
    "    # Method\n",
    "    def drawRectangle(self):\n",
    "        plt.gca().add_patch(plt.Rectangle((0,0), self.width, self.height ,fc = self.color))\n",
    "        plt.axis('scaled')\n",
    "        plt.show()\n",
    "        "
   ]
  },
  {
   "cell_type": "markdown",
   "id": "97f58cba-17df-4c87-97e8-be6e22a2fce1",
   "metadata": {},
   "source": [
    "### Creating an instance of a class Rectangle"
   ]
  },
  {
   "cell_type": "markdown",
   "id": "b06fe6aa-891e-43c3-ad4c-79942a7a1f4e",
   "metadata": {},
   "source": [
    "###### Create object SkinnyGreenRectangle of type Rectangle:"
   ]
  },
  {
   "cell_type": "code",
   "execution_count": null,
   "id": "ac741611-f1f5-4f81-8d47-bff1a8256266",
   "metadata": {},
   "outputs": [],
   "source": [
    "# Create a new object rectangle\n",
    "\n",
    "SkinnyGreenRectangle = Rectangle(2, 3, 'green')"
   ]
  },
  {
   "cell_type": "markdown",
   "id": "a91d1d99-2a9a-4d6a-a2fc-3fd9f8ae76c0",
   "metadata": {},
   "source": [
    "###### Access attributes of the instance of the class:"
   ]
  },
  {
   "cell_type": "code",
   "execution_count": null,
   "id": "4f31cc84-7de0-4501-86cb-db7e05080e8a",
   "metadata": {},
   "outputs": [],
   "source": [
    "# Print the object attribute height\n",
    "\n",
    "SkinnyGreenRectangle.height"
   ]
  },
  {
   "cell_type": "code",
   "execution_count": null,
   "id": "28882646-8631-4ff7-85c3-dbe96145fab2",
   "metadata": {},
   "outputs": [],
   "source": [
    "# Print the object attribute width\n",
    "\n",
    "SkinnyGreebRectangle.width"
   ]
  },
  {
   "cell_type": "code",
   "execution_count": null,
   "id": "6547f907-fd62-4bcd-a52b-bc248513f767",
   "metadata": {},
   "outputs": [],
   "source": [
    "# Print the object attribute color\n",
    "\n",
    "SkinnyGreenRectangle.color"
   ]
  },
  {
   "cell_type": "markdown",
   "id": "27c1285f-9c29-439e-bc98-243887a7b75b",
   "metadata": {},
   "source": [
    "###### Draw the object:"
   ]
  },
  {
   "cell_type": "code",
   "execution_count": null,
   "id": "d037ce96-ec54-4e6d-92f7-671619d403d1",
   "metadata": {},
   "outputs": [],
   "source": [
    "# Use drawRectangle method to draw the shape\n",
    "\n",
    "SkinnyGreenRectangle.drawRectangle()"
   ]
  },
  {
   "cell_type": "markdown",
   "id": "b011e888-0116-45d8-85ec-53c9526cf54a",
   "metadata": {},
   "source": [
    "###### Create a new rectangle type using FatRedRectangle object:"
   ]
  },
  {
   "cell_type": "code",
   "execution_count": null,
   "id": "7f14bd1a-143d-4230-80d2-3a497370c528",
   "metadata": {},
   "outputs": [],
   "source": [
    "# Create a new object of a rectangle type\n",
    "\n",
    "FatRedRectangle = Rectangle(15,7,'red')"
   ]
  },
  {
   "cell_type": "markdown",
   "id": "c22002e6-1e79-4556-ab97-c2cee82a1c34",
   "metadata": {},
   "source": [
    "###### Access the attributes of the instance of the class:"
   ]
  },
  {
   "cell_type": "code",
   "execution_count": null,
   "id": "2f9a1455-46fa-423e-b537-8f50a0bb3990",
   "metadata": {},
   "outputs": [],
   "source": [
    "# Print the object attribute height\n",
    "\n",
    "FatRedRectangle.height"
   ]
  },
  {
   "cell_type": "code",
   "execution_count": null,
   "id": "d1da7a6a-e30b-4f5b-a1b2-960e4a79c953",
   "metadata": {},
   "outputs": [],
   "source": [
    "# Print the object attribute width\n",
    "\n",
    "FatRedRectangle.width"
   ]
  },
  {
   "cell_type": "code",
   "execution_count": null,
   "id": "0b7fa6a1-065a-4ab6-bae6-714a9885efef",
   "metadata": {},
   "outputs": [],
   "source": [
    "# Print the object attribute color\n",
    "\n",
    "FatRedRectangle.color"
   ]
  },
  {
   "cell_type": "markdown",
   "id": "4f044dc8-5f68-4e5e-9159-4daa1159f440",
   "metadata": {},
   "source": [
    "###### Draw the object:"
   ]
  },
  {
   "cell_type": "code",
   "execution_count": null,
   "id": "6f2907f4-2219-4acd-9c9b-7ce1c2f187ba",
   "metadata": {},
   "outputs": [],
   "source": [
    "# Use the drawRectangle method to draw the shape: \n",
    "\n",
    "FatRedRectangle.drawRectangle(1)"
   ]
  }
 ],
 "metadata": {
  "kernelspec": {
   "display_name": "Python",
   "language": "python",
   "name": "conda-env-python-py"
  },
  "language_info": {
   "codemirror_mode": {
    "name": "ipython",
    "version": 3
   },
   "file_extension": ".py",
   "mimetype": "text/x-python",
   "name": "python",
   "nbconvert_exporter": "python",
   "pygments_lexer": "ipython3",
   "version": "3.7.12"
  }
 },
 "nbformat": 4,
 "nbformat_minor": 5
}
