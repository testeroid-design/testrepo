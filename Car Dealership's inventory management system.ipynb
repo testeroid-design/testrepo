{
 "cells": [
  {
   "cell_type": "markdown",
   "id": "a1748cae-3f29-4791-be20-2eb260e2dde8",
   "metadata": {
    "tags": []
   },
   "source": [
    "# Scenario: Car Dealership's inventory management system"
   ]
  },
  {
   "cell_type": "markdown",
   "id": "87b16b20-f5c0-4f89-a117-e4649f15699f",
   "metadata": {
    "tags": []
   },
   "source": [
    "### Represent vehicles using a class. Each car should have attributes for maximum speed and mileage. "
   ]
  },
  {
   "cell_type": "code",
   "execution_count": null,
   "id": "bffb8247-89c0-4a73-858d-cb6b08c79e8e",
   "metadata": {},
   "outputs": [],
   "source": [
    "class Vehicle: \n",
    "    def _init_(self, max_speed, mileage):\n",
    "        self.max_speed = max_speed\n",
    "        self.mileage = mileage"
   ]
  },
  {
   "cell_type": "markdown",
   "id": "6538a72d-79f7-4b54-aca8-f152fba8f228",
   "metadata": {},
   "source": [
    "### Update the class with the default color for all vehicles to \"white\". "
   ]
  },
  {
   "cell_type": "code",
   "execution_count": null,
   "id": "bf7693de-6e72-475f-83fe-763db9f32594",
   "metadata": {
    "tags": []
   },
   "outputs": [],
   "source": [
    "class Vehicle:\n",
    "    color = \"white\"\n",
    "    \n",
    "    def _init_(self, max_speed, mileage):\n",
    "        self.max_speed = max_speed\n",
    "        self.mileage = mileage"
   ]
  },
  {
   "cell_type": "markdown",
   "id": "24900b77-e198-445e-a5f5-4d02963d1f2e",
   "metadata": {},
   "source": [
    "### Create methods in the Vehicle class to assign seating capacity to a vehicle."
   ]
  },
  {
   "cell_type": "code",
   "execution_count": null,
   "id": "509f3efe-449a-4ff6-9bfe-e9ffad8ff3f7",
   "metadata": {
    "tags": []
   },
   "outputs": [],
   "source": [
    "class Vehicle:\n",
    "    color = \"white\"\n",
    "    \n",
    "    # Constructor\n",
    "    def _init_(self, max_speed, mileage):\n",
    "        self.max_speed = max_speed\n",
    "        self.mileage = mileage\n",
    "        seat_capacity = None\n",
    "        \n",
    "    # Method\n",
    "    def assign_seat_capacity(self, seat_capacity):\n",
    "        self.seat_capacity = seat_capacity"
   ]
  },
  {
   "cell_type": "markdown",
   "id": "ae055711-7c7a-471c-a238-58d2605caacf",
   "metadata": {},
   "source": [
    "### Create a method to display all the properties of an object of the class"
   ]
  },
  {
   "cell_type": "code",
   "execution_count": null,
   "id": "da90d0ce-1699-4bca-be2d-5f15820af033",
   "metadata": {},
   "outputs": [],
   "source": [
    "class Vehicle:\n",
    "    color = \"white\"\n",
    "    \n",
    "    # Constructor\n",
    "    def _init_(self, max_speed, mileage):\n",
    "        self.max_speed = max_speed\n",
    "        self.mileage = mileage\n",
    "        seat_capacity = None\n",
    "        \n",
    "    # Method\n",
    "    def assign_seat_capacity(self, seat_capacity):\n",
    "        self.seat_capacity = seat_capacity\n",
    "    # Method\n",
    "    def display_properties(self):\n",
    "        print(\"Properties of the Vehicle:\")\n",
    "        print(\"Color:\", self.color)\n",
    "        print(\"Maxium Speed:\", self.max_speed)\n",
    "        print(\"Mileage:\", self.mileage)\n",
    "        print(\"Seat capacity:\", self.seat_capacity)\n",
    "        "
   ]
  },
  {
   "cell_type": "markdown",
   "id": "d9565c5a-b44e-4a32-8cbe-eac70f00e49c",
   "metadata": {},
   "source": [
    "### Create two objects of the Vehicle class object. First car object should have maximum speed of 200kph, mileage of 50000kmpl,seat capacity - 5. Second car object should have a maximum speed of 180kph, 75000kmpl, seat capacity - 4. "
   ]
  },
  {
   "cell_type": "code",
   "execution_count": null,
   "id": "df694cc0-99f2-4285-8ae1-3ddfa866d27f",
   "metadata": {},
   "outputs": [],
   "source": [
    "class Vehicle:\n",
    "    color = \"white\"\n",
    "    \n",
    "    # Constructor\n",
    "    def _init_(self, max_speed, mileage):\n",
    "        self.max_speed = max_speed\n",
    "        self.mileage = mileage\n",
    "        seat_capacity = None\n",
    "        \n",
    "    # Method\n",
    "    def assign_seat_capacity(self, seat_capacity):\n",
    "        self.seat_capacity = seat_capacity\n",
    "    # Method\n",
    "    def display_properties(self):\n",
    "        print(\"Properties of the Vehicle:\")\n",
    "        print(\"Color:\", self.color)\n",
    "        print(\"Maxium Speed:\", self.max_speed)\n",
    "        print(\"Mileage:\", self.mileage)\n",
    "        print(\"Seat capacity:\", self.seat_capacity)\n",
    "        \n",
    "# Method\n",
    "Vehicle1 = Vehicle (200, 50000)\n",
    "Vehicle1.assign_seat_capacity(5)\n",
    "Vehicle1.display_properties()\n",
    "\n",
    "Vehicle2 = Vehicle (180, 75000)\n",
    "Vehicle2.assign_seat_capacity(4)\n",
    "Vehicle2.display_properties()\n"
   ]
  }
 ],
 "metadata": {
  "kernelspec": {
   "display_name": "Python",
   "language": "python",
   "name": "conda-env-python-py"
  },
  "language_info": {
   "codemirror_mode": {
    "name": "ipython",
    "version": 3
   },
   "file_extension": ".py",
   "mimetype": "text/x-python",
   "name": "python",
   "nbconvert_exporter": "python",
   "pygments_lexer": "ipython3",
   "version": "3.7.12"
  }
 },
 "nbformat": 4,
 "nbformat_minor": 5
}
