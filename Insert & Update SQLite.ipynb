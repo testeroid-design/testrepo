{
 "cells": [
  {
   "cell_type": "markdown",
   "id": "e9f8d7be-14f3-4096-9702-ef956460b660",
   "metadata": {},
   "source": [
    "# **Create & Access SQLite database using Python**"
   ]
  },
  {
   "cell_type": "markdown",
   "id": "c35fd06d-64e5-48ed-80c8-53e04f3206ef",
   "metadata": {},
   "source": [
    "### **Objectives**\n",
    "\n",
    "* Create a database\n",
    "* Create a table\n",
    "* Insert data into the table\n",
    "* Query data from the table\n",
    "* Retrieve the result set into Pandas DataFrame\n",
    "* Close the database connection"
   ]
  },
  {
   "cell_type": "markdown",
   "id": "3f07435c-7532-4b93-9122-82056db941f3",
   "metadata": {},
   "source": [
    "SQLite is a software library that implements serverless, self-contained, transactional and zero-configuration SQL database engine. "
   ]
  },
  {
   "cell_type": "markdown",
   "id": "db59465a-cb96-4d5c-8a4a-438a72cebe91",
   "metadata": {
    "tags": []
   },
   "source": [
    "#### Create database using SQLite"
   ]
  },
  {
   "cell_type": "code",
   "execution_count": 1,
   "id": "d8602314-2146-4355-a85b-e5462cdb4566",
   "metadata": {
    "tags": []
   },
   "outputs": [
    {
     "name": "stdout",
     "output_type": "stream",
     "text": [
      "\u001b[31mERROR: Could not find a version that satisfies the requirement sqlite (from versions: none)\u001b[0m\u001b[31m\n",
      "\u001b[0m\u001b[31mERROR: No matching distribution found for sqlite\u001b[0m\u001b[31m\n",
      "\u001b[0m"
     ]
    }
   ],
   "source": [
    "#Install & Load sqlite3\n",
    "!pip install sqlite\n",
    "import sqlite3"
   ]
  },
  {
   "cell_type": "code",
   "execution_count": 2,
   "id": "0d3860a2-9267-46d0-b429-efa041d76a05",
   "metadata": {
    "tags": []
   },
   "outputs": [],
   "source": [
    "# Connecting to sqlite\n",
    "# Connection object\n",
    "conn = sqlite3.connect('INSTRUCTOR.db')"
   ]
  },
  {
   "cell_type": "code",
   "execution_count": 3,
   "id": "82ef0085-2320-461f-82bc-9c5c0c611c92",
   "metadata": {
    "tags": []
   },
   "outputs": [],
   "source": [
    "# Cursor object\n",
    "cursor_obj = conn.cursor()"
   ]
  },
  {
   "cell_type": "markdown",
   "id": "66d25ff6-db2e-4843-aa35-2e0a62ab3281",
   "metadata": {},
   "source": [
    "#### Create a table in the database"
   ]
  },
  {
   "cell_type": "markdown",
   "id": "95d83349-6f53-4775-911e-07ef5631178b",
   "metadata": {
    "tags": []
   },
   "source": [
    "We will create a table in the database as per below: \n",
    "\n",
    "<img src=\"https://cf-courses-data.s3.us.cloud-object-storage.appdomain.cloud/IBMDeveloperSkillsNetwork-DB0201EN-SkillsNetwork/labs/FinalModule_Coursera_V5/images/table.png\" align=\"center\">"
   ]
  },
  {
   "cell_type": "markdown",
   "id": "19334b0a-18a5-48ed-b8f9-866b70242d35",
   "metadata": {},
   "source": [
    "Use `DROP` query to check if the database already exist.\n",
    "Cursor object will help to execute the query and fetch the records from the database. "
   ]
  },
  {
   "cell_type": "code",
   "execution_count": 4,
   "id": "7c10b10c-89db-4509-bdfa-aee0bf9e6d16",
   "metadata": {
    "tags": []
   },
   "outputs": [
    {
     "data": {
      "text/plain": [
       "<sqlite3.Cursor at 0x7fe5a04166c0>"
      ]
     },
     "execution_count": 4,
     "metadata": {},
     "output_type": "execute_result"
    }
   ],
   "source": [
    "# Drop the table if it already exists\n",
    "cursor_obj.execute(\"DROP TABLE IF EXISTS INSUTRUCTOR\")"
   ]
  },
  {
   "cell_type": "markdown",
   "id": "a1238d88-0168-47a6-98b5-3946370d4747",
   "metadata": {
    "tags": []
   },
   "source": [
    "if the table doesn`t exist then you will get an error similar to the below: \n",
    "\n",
    "\n",
    "<strong>Exception: \\[IBM]\\[CLI Driver]\\[DB2/LINUXX8664] SQL0204N  \"ABC12345.INSTRUCTOR\" is an undefined name.  SQLSTATE=42704 SQLCODE=-204</strong>"
   ]
  },
  {
   "cell_type": "code",
   "execution_count": 5,
   "id": "fe1a8ddb-ff23-43d2-a046-b5cf0aa97ebc",
   "metadata": {
    "tags": []
   },
   "outputs": [
    {
     "name": "stdout",
     "output_type": "stream",
     "text": [
      "Table is ready\n"
     ]
    }
   ],
   "source": [
    "# Creating table\n",
    "\n",
    "table = \"\"\" create table IF NOT EXISTS INSTRUCTOR(IF INTEGER PRIMARY KEY NOT NULL, FNAME VARCHAR(20), LNAME VARCHAR(20), CITY VARCHAR(20), CCDDE CHAR(2)); \"\"\"\n",
    "\n",
    "cursor_obj.execute(table)\n",
    "\n",
    "print(\"Table is ready\")"
   ]
  },
  {
   "cell_type": "markdown",
   "id": "92ea252c-a5bf-4b84-a498-2f87b083012c",
   "metadata": {},
   "source": [
    "#### Insert data into the table"
   ]
  },
  {
   "cell_type": "code",
   "execution_count": 6,
   "id": "d58ddb4b-3c13-443c-a8be-7192d481986d",
   "metadata": {
    "tags": []
   },
   "outputs": [
    {
     "data": {
      "text/plain": [
       "<sqlite3.Cursor at 0x7fe5a04166c0>"
      ]
     },
     "execution_count": 6,
     "metadata": {},
     "output_type": "execute_result"
    }
   ],
   "source": [
    "# Start by inserting the first column of data. \n",
    "\n",
    "cursor_obj.execute('''insert into INSTRUCTOR values (1, 'Rav', 'Ahuja', 'TORONTO', 'CA')''')"
   ]
  },
  {
   "cell_type": "code",
   "execution_count": 7,
   "id": "f8df0aba-4843-4697-84c4-50cbf4f6028d",
   "metadata": {
    "tags": []
   },
   "outputs": [
    {
     "data": {
      "text/plain": [
       "<sqlite3.Cursor at 0x7fe5a04166c0>"
      ]
     },
     "execution_count": 7,
     "metadata": {},
     "output_type": "execute_result"
    }
   ],
   "source": [
    "# Insert remaining 2 rows of data\n",
    "cursor_obj.execute('''insert into INSTRUCTOR values(2, 'Raul', 'Chong', 'Markham', 'CA'), (3, 'Hima', 'Vasudevan','Chicago', 'US')''') "
   ]
  },
  {
   "cell_type": "markdown",
   "id": "46ac988b-38f4-41e1-b9c3-4cff388f9239",
   "metadata": {},
   "source": [
    "#### Query data in the table"
   ]
  },
  {
   "cell_type": "code",
   "execution_count": 8,
   "id": "cbf58156-e379-4d2a-ab22-1d03a0bc6f4b",
   "metadata": {
    "tags": []
   },
   "outputs": [
    {
     "name": "stdout",
     "output_type": "stream",
     "text": [
      "All the data\n",
      "(1, 'Rav', 'Ahuja', 'TORONTO', 'CA')\n",
      "(2, 'Raul', 'Chong', 'Markham', 'CA')\n",
      "(3, 'Hima', 'Vasudevan', 'Chicago', 'US')\n"
     ]
    }
   ],
   "source": [
    "# Retrieve data from the Instructor table\n",
    "statement = '''SELECT * FROM INSTRUCTOR'''\n",
    "cursor_obj.execute(statement)\n",
    "\n",
    "print(\"All the data\")\n",
    "output_all = cursor_obj.fetchall()\n",
    "for row_all in output_all:\n",
    "    print(row_all)"
   ]
  },
  {
   "cell_type": "code",
   "execution_count": 9,
   "id": "24ff7b64-3e88-4cf3-92e3-c2a63e7e630a",
   "metadata": {
    "tags": []
   },
   "outputs": [
    {
     "name": "stdout",
     "output_type": "stream",
     "text": [
      "All the data\n",
      "(1, 'Rav', 'Ahuja', 'TORONTO', 'CA')\n",
      "(2, 'Raul', 'Chong', 'Markham', 'CA')\n"
     ]
    }
   ],
   "source": [
    "# Fetch the rows from the table\n",
    "statement = '''SELECT * FROM INSTRUCTOR'''\n",
    "cursor_obj.execute(statement)\n",
    "\n",
    "print(\"All the data\")\n",
    "# to fetch new rows use fetchmany(numberofrows)\n",
    "output_many = cursor_obj.fetchmany(2)\n",
    "for row_many in output_many:\n",
    "    print(row_many)"
   ]
  },
  {
   "cell_type": "code",
   "execution_count": 10,
   "id": "653dfcce-c790-41fb-b654-a8793c57ae88",
   "metadata": {
    "tags": []
   },
   "outputs": [
    {
     "name": "stdout",
     "output_type": "stream",
     "text": [
      "All the data\n",
      "('Rav',)\n",
      "('Raul',)\n",
      "('Hima',)\n"
     ]
    }
   ],
   "source": [
    "# Fetch only FNAME from the table\n",
    "statement = '''SELECT FNAME FROM INSTRUCTOR'''\n",
    "cursor_obj.execute(statement)\n",
    "\n",
    "print(\"All the data\")\n",
    "output_column = cursor_obj.fetchall()\n",
    "for fetch in output_column:\n",
    "    print(fetch)"
   ]
  },
  {
   "cell_type": "markdown",
   "id": "f982edca-588a-44b4-878d-3ace72bcdfcd",
   "metadata": {},
   "source": [
    "#### Write and execute an update statement that changes the Rav's CITY to MOOSETOWN"
   ]
  },
  {
   "cell_type": "code",
   "execution_count": 11,
   "id": "5ffb4fc4-70dd-4af8-b6c8-d0224bcbb00e",
   "metadata": {
    "tags": []
   },
   "outputs": [
    {
     "data": {
      "text/plain": [
       "<sqlite3.Cursor at 0x7fe5a04166c0>"
      ]
     },
     "execution_count": 11,
     "metadata": {},
     "output_type": "execute_result"
    }
   ],
   "source": [
    "query_update = '''update INSTRUCTOR set CITY = 'Moosetown' where FNAME=\"Rav\"'''\n",
    "cursor_obj.execute(query_update)"
   ]
  },
  {
   "cell_type": "code",
   "execution_count": 12,
   "id": "fe592c2f-a317-4958-b3dc-90bcaa34acf8",
   "metadata": {
    "tags": []
   },
   "outputs": [
    {
     "name": "stdout",
     "output_type": "stream",
     "text": [
      "All the data\n",
      "(1, 'Rav', 'Ahuja', 'Moosetown', 'CA')\n",
      "(2, 'Raul', 'Chong', 'Markham', 'CA')\n"
     ]
    }
   ],
   "source": [
    "statement = '''SELECT * FROM INSTRUCTOR'''\n",
    "cursor_obj.execute(statement)\n",
    "\n",
    "print(\"All the data\")\n",
    "output1 = cursor_obj.fetchmany(2)\n",
    "for row in output1:\n",
    "    print(row)"
   ]
  },
  {
   "cell_type": "markdown",
   "id": "ff57d1d4-b3a8-49da-9393-31697afd7d82",
   "metadata": {},
   "source": [
    "#### Retrieve data into Pandas"
   ]
  },
  {
   "cell_type": "code",
   "execution_count": 13,
   "id": "4cec2919-e48d-41f0-b404-a32d7d0ee29c",
   "metadata": {
    "tags": []
   },
   "outputs": [
    {
     "data": {
      "text/html": [
       "<div>\n",
       "<style scoped>\n",
       "    .dataframe tbody tr th:only-of-type {\n",
       "        vertical-align: middle;\n",
       "    }\n",
       "\n",
       "    .dataframe tbody tr th {\n",
       "        vertical-align: top;\n",
       "    }\n",
       "\n",
       "    .dataframe thead th {\n",
       "        text-align: right;\n",
       "    }\n",
       "</style>\n",
       "<table border=\"1\" class=\"dataframe\">\n",
       "  <thead>\n",
       "    <tr style=\"text-align: right;\">\n",
       "      <th></th>\n",
       "      <th>ID</th>\n",
       "      <th>FNAME</th>\n",
       "      <th>LNAME</th>\n",
       "      <th>CITY</th>\n",
       "      <th>CCODE</th>\n",
       "    </tr>\n",
       "  </thead>\n",
       "  <tbody>\n",
       "    <tr>\n",
       "      <th>0</th>\n",
       "      <td>1</td>\n",
       "      <td>Rav</td>\n",
       "      <td>Ahuja</td>\n",
       "      <td>Moosetown</td>\n",
       "      <td>CA</td>\n",
       "    </tr>\n",
       "    <tr>\n",
       "      <th>1</th>\n",
       "      <td>2</td>\n",
       "      <td>Raul</td>\n",
       "      <td>Chong</td>\n",
       "      <td>Markham</td>\n",
       "      <td>CA</td>\n",
       "    </tr>\n",
       "    <tr>\n",
       "      <th>2</th>\n",
       "      <td>3</td>\n",
       "      <td>Hima</td>\n",
       "      <td>Vasudevan</td>\n",
       "      <td>Chicago</td>\n",
       "      <td>US</td>\n",
       "    </tr>\n",
       "  </tbody>\n",
       "</table>\n",
       "</div>"
      ],
      "text/plain": [
       "   ID FNAME      LNAME       CITY CCODE\n",
       "0   1   Rav      Ahuja  Moosetown    CA\n",
       "1   2  Raul      Chong    Markham    CA\n",
       "2   3  Hima  Vasudevan    Chicago    US"
      ]
     },
     "execution_count": 13,
     "metadata": {},
     "output_type": "execute_result"
    }
   ],
   "source": [
    "# retrieve the contents of the INSTRUCTOR table into a Pandas dataframe\n",
    "\n",
    "import pandas as pd\n",
    "#retrieve the query results into a pandas dataframe\n",
    "df = pd.read_sql_query(\"select * from instructor;\",conn)\n",
    "\n",
    "#print the dataframe\n",
    "df"
   ]
  },
  {
   "cell_type": "code",
   "execution_count": 14,
   "id": "d73fbde7-a763-47ec-833f-1eeef38a8c77",
   "metadata": {
    "tags": []
   },
   "outputs": [
    {
     "data": {
      "text/plain": [
       "'Ahuja'"
      ]
     },
     "execution_count": 14,
     "metadata": {},
     "output_type": "execute_result"
    }
   ],
   "source": [
    "# print just the LNAME for first row in the pandas dataframe\n",
    "df.LNAME[0]"
   ]
  },
  {
   "cell_type": "markdown",
   "id": "ccaaf29a-db47-4818-9627-ca05afb1359e",
   "metadata": {
    "tags": []
   },
   "source": [
    "Once data has reached Pandas DataFrame, you can perform normal pandas operations. "
   ]
  },
  {
   "cell_type": "code",
   "execution_count": 15,
   "id": "068506ee-2820-47f8-bec2-a849b03c572f",
   "metadata": {
    "tags": []
   },
   "outputs": [
    {
     "data": {
      "text/plain": [
       "(3, 5)"
      ]
     },
     "execution_count": 15,
     "metadata": {},
     "output_type": "execute_result"
    }
   ],
   "source": [
    "df.shape"
   ]
  },
  {
   "cell_type": "markdown",
   "id": "edb867d4-a6cc-40ee-ab16-ffc98a27b185",
   "metadata": {},
   "source": [
    "#### Close the Connection"
   ]
  },
  {
   "cell_type": "markdown",
   "id": "fd875191-88fe-44e8-9612-df9f9f87a8c1",
   "metadata": {
    "tags": []
   },
   "source": [
    "Free all resources by closing the connection."
   ]
  },
  {
   "cell_type": "code",
   "execution_count": 17,
   "id": "2f35db1b-8eb7-4c9b-bc9c-a2df534a31b4",
   "metadata": {
    "tags": []
   },
   "outputs": [],
   "source": [
    "#Close the connection\n",
    "conn.close()"
   ]
  },
  {
   "cell_type": "code",
   "execution_count": null,
   "id": "0e16d368-687f-4706-be53-89894c5fb7b6",
   "metadata": {},
   "outputs": [],
   "source": []
  },
  {
   "cell_type": "code",
   "execution_count": null,
   "id": "6415f018-2211-475a-9d28-e3eeda9778b0",
   "metadata": {},
   "outputs": [],
   "source": []
  }
 ],
 "metadata": {
  "kernelspec": {
   "display_name": "Python",
   "language": "python",
   "name": "conda-env-python-py"
  },
  "language_info": {
   "codemirror_mode": {
    "name": "ipython",
    "version": 3
   },
   "file_extension": ".py",
   "mimetype": "text/x-python",
   "name": "python",
   "nbconvert_exporter": "python",
   "pygments_lexer": "ipython3",
   "version": "3.7.12"
  }
 },
 "nbformat": 4,
 "nbformat_minor": 5
}
