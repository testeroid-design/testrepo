{
 "cells": [
  {
   "cell_type": "markdown",
   "id": "2df281c6-0bd2-4cc7-b401-1e8fa47805ef",
   "metadata": {},
   "source": [
    "# LAB: Objects & Attributes: Circle"
   ]
  },
  {
   "cell_type": "markdown",
   "id": "66df4639-bd9c-4042-99df-69e344aec828",
   "metadata": {},
   "source": [
    "### Creating a Circle class"
   ]
  },
  {
   "cell_type": "code",
   "execution_count": null,
   "id": "78ebad8f-78c3-4213-ba51-bc7350ffa4bb",
   "metadata": {},
   "outputs": [],
   "source": [
    "# Import the library\n",
    "\n",
    "import matplotlib.pyplot as plt\n",
    "%matplotlib inline"
   ]
  },
  {
   "cell_type": "code",
   "execution_count": null,
   "id": "d2fe1c2c-d5aa-4f70-b57f-596b0b8454e6",
   "metadata": {},
   "outputs": [],
   "source": [
    "# Create a class Cirle & include a method drawCircle to display the image of a cirke. \n",
    "# Set default radius to 5 & default color to 'black'\n",
    "\n",
    "class Circle(object):\n",
    "    \n",
    "    # Constructor\n",
    "    def _init_(self, radius = 5, color = 'black'):\n",
    "        self.radius = radius\n",
    "        self.color = color\n",
    "        \n",
    "    # Method\n",
    "    def add_radius(self, r):\n",
    "        self.radius = self.radius + r\n",
    "        return(self.radius)\n",
    "    \n",
    "    # Method\n",
    "    def drawCircle(self):\n",
    "        plt.gca().add_patch(plt.Circle(0,0), radius = self.radius, fc = self.color))\n",
    "        plt.axis('scaled')\n",
    "        plt.show()   "
   ]
  },
  {
   "cell_type": "markdown",
   "id": "359b12d8-010a-49dc-b3bf-7608110a6b97",
   "metadata": {},
   "source": [
    "### Creating an instance of a class Circle"
   ]
  },
  {
   "cell_type": "code",
   "execution_count": null,
   "id": "ce190e22-ca71-470a-b010-ce9036dce85e",
   "metadata": {},
   "outputs": [],
   "source": [
    "# Create an object GreenCircle\n",
    "\n",
    "GreenCircle = Circle(15,'green')"
   ]
  },
  {
   "cell_type": "code",
   "execution_count": null,
   "id": "eed79f0f-09f1-4c14-914c-aa13df31cc01",
   "metadata": {},
   "outputs": [],
   "source": [
    "# Get a list of the object's methods, using dir command\n",
    "\n",
    "dir(GreenCircle)"
   ]
  },
  {
   "cell_type": "markdown",
   "id": "2cd562fe-c995-4169-9cc5-2cf31271986f",
   "metadata": {},
   "source": [
    "###### Review of the data attributes of the object:"
   ]
  },
  {
   "cell_type": "code",
   "execution_count": null,
   "id": "09736ac5-7fc2-4f3a-8a86-1b4f31848a43",
   "metadata": {},
   "outputs": [],
   "source": [
    "# Check data attributes of the object. Print the object attrubute radius\n",
    "\n",
    "GreenCircle.radius"
   ]
  },
  {
   "cell_type": "code",
   "execution_count": null,
   "id": "078abe2b-06c7-45e5-81c6-492b21d235ef",
   "metadata": {},
   "outputs": [],
   "source": [
    "# Print the object attribute color\n",
    "\n",
    "GreenCircle.color"
   ]
  },
  {
   "cell_type": "markdown",
   "id": "84fbafff-034a-4bc6-b906-369db4b9919e",
   "metadata": {},
   "source": [
    "###### Change the object's data attributes:"
   ]
  },
  {
   "cell_type": "code",
   "execution_count": null,
   "id": "cfd4deba-5a27-4076-9b8e-c5f2bdf61645",
   "metadata": {},
   "outputs": [],
   "source": [
    "# Set the onject attribute radius\n",
    "\n",
    "GreenCircle.radius = 1\n",
    "GreenCircle.radius"
   ]
  },
  {
   "cell_type": "markdown",
   "id": "0e3c2738-f049-4f8e-9495-19aa983d1e73",
   "metadata": {
    "tags": []
   },
   "source": [
    "###### Draw the object with the methods drawCircle():"
   ]
  },
  {
   "cell_type": "code",
   "execution_count": 3,
   "id": "3c6f63c4-0ca2-4c66-94c9-b9f9283bd5fa",
   "metadata": {
    "tags": []
   },
   "outputs": [],
   "source": [
    "# Call the method drawCircle()\n",
    "\n",
    "GreenCircle.drawCircle()"
   ]
  },
  {
   "cell_type": "markdown",
   "id": "44ed81ec-8af2-460a-83ea-d5d3a71c70c8",
   "metadata": {},
   "source": [
    "###### Increase the radius of the circle by applyting the method add_radius():   "
   ]
  },
  {
   "cell_type": "code",
   "execution_count": null,
   "id": "0dc1febf-0136-4823-9631-0ef594898d84",
   "metadata": {},
   "outputs": [],
   "source": [
    "# Use method add_radius() to change the obkect attribute radius from 5 to 7\n",
    "\n",
    "print('Radius of object:',GreenCircle.radius)\n",
    "GreenCircle.add_radius(5)\n",
    "print('Radius of object of after applying the method add_radius(5):',GreenCircle.radius)\n",
    "GreenCircle.add_radius(7)\n",
    "print('Radius of object of after applyinh the method add_radius(7):',GreenCircle.radius)"
   ]
  },
  {
   "cell_type": "markdown",
   "id": "04185f38-787f-439d-ba8d-0c43005fa755",
   "metadata": {},
   "source": [
    "###### Create another cirle, color attribute is 'yellow':"
   ]
  },
  {
   "cell_type": "code",
   "execution_count": null,
   "id": "a10a3385-ed31-44d8-b973-61236c63a104",
   "metadata": {},
   "outputs": [],
   "source": [
    "# Create a blue circle with a given radius\n",
    "\n",
    "YellowCircle = Circle(radius=100)"
   ]
  },
  {
   "cell_type": "markdown",
   "id": "f7d315fd-3e7a-4970-b375-f045af890d1e",
   "metadata": {},
   "source": [
    "###### Access the attributes of the instance of the class:"
   ]
  },
  {
   "cell_type": "code",
   "execution_count": null,
   "id": "ee73aa8c-adf8-4e06-96b0-635fedbf4142",
   "metadata": {},
   "outputs": [],
   "source": [
    "# Print the object attribute 'color'\n",
    "\n",
    "YellowCircle.color"
   ]
  },
  {
   "cell_type": "markdown",
   "id": "6a8e9c9e-1a0e-4fa7-8d46-6947233cddf4",
   "metadata": {},
   "source": [
    "###### Draw the object by using the method drawCircle(): "
   ]
  },
  {
   "cell_type": "code",
   "execution_count": null,
   "id": "3e4e0db5-65b5-461b-8a62-3a692f6f0b0f",
   "metadata": {
    "tags": []
   },
   "outputs": [],
   "source": [
    "# Call the method drawCircle()\n",
    "\n",
    "YellowCircle.drawCircle()"
   ]
  },
  {
   "cell_type": "code",
   "execution_count": null,
   "id": "3fb9f30c-e002-45fc-a05f-8494a846186e",
   "metadata": {},
   "outputs": [],
   "source": []
  }
 ],
 "metadata": {
  "kernelspec": {
   "display_name": "Python",
   "language": "python",
   "name": "conda-env-python-py"
  },
  "language_info": {
   "codemirror_mode": {
    "name": "ipython",
    "version": 3
   },
   "file_extension": ".py",
   "mimetype": "text/x-python",
   "name": "python",
   "nbconvert_exporter": "python",
   "pygments_lexer": "ipython3",
   "version": "3.7.12"
  }
 },
 "nbformat": 4,
 "nbformat_minor": 5
}
