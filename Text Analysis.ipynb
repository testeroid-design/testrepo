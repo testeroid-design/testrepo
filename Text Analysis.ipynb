{
 "cells": [
  {
   "cell_type": "markdown",
   "id": "e1833b11-f21b-4413-aa42-890345b88f47",
   "metadata": {},
   "source": [
    "# **Scenario: Customer Feedback Text Analysis**"
   ]
  },
  {
   "cell_type": "markdown",
   "id": "77709240-f000-4c0c-a54c-da2f7700fee1",
   "metadata": {
    "tags": []
   },
   "source": [
    "#### **Requirement**: to analyze Customer feedback for a product"
   ]
  },
  {
   "cell_type": "markdown",
   "id": "f73d8d5f-ca1d-4c50-b28d-809f2d233aec",
   "metadata": {},
   "source": [
    "#### **Input**: large dataset of customer reviews in the form of strings. "
   ]
  },
  {
   "cell_type": "markdown",
   "id": "fa705435-720a-4233-80bc-5e23eda591a7",
   "metadata": {
    "tags": []
   },
   "source": [
    "#### **Task**: to extract valuable insighths into customer sentiment from provided dataset using 3 identified tasks:"
   ]
  },
  {
   "cell_type": "markdown",
   "id": "3cfeb165-5dbe-41a0-8a81-c6fab749dd6b",
   "metadata": {
    "tags": []
   },
   "source": [
    "##### **1. String in lower case:**\n",
    "Preprocess the customer feedback by converting all the text to lowercase.\n",
    "This step helps standardization of the text. Lower casing of the text will allow us to focus on the content rather than on the specific letter casing.\n",
    "\n",
    "##### **2. Frequency of all words in a given string:**\n",
    "Determine the frequency of each word in the customer feedback.\n",
    "This step will help us to identify which words are used more frequently, indicating the key aspects or topics that customers are mentioning in their reviews. \n",
    "Analyzis of the word frequency will provide insights into the most common issues raised by customers.\n",
    "\n",
    "##### **3. Frequency of a specific word:**\n",
    "Determine the frequency of a particular word. \n",
    "Example: it might be interesting to monitor how often the word \"reliable\" appears in customer reviews to collect customer sentiment about the product's reliability. \n",
    "Focus on a frequency of a specific word can give us a deeper understanding of customer opinions or preferences related to some particular aspects. \n",
    "\n"
   ]
  },
  {
   "cell_type": "code",
   "execution_count": 1,
   "id": "b98c3716-0fd8-4008-ae9e-0ad7e3614d34",
   "metadata": {
    "tags": []
   },
   "outputs": [],
   "source": [
    "# Test String\n",
    "\n",
    "string = \"Lorem ipsum dolor! diam amet, consetetur Lorem magna. sed diam nonumy eirmod tempor. 
    "diam et labore? et diam magna. et diam amet.\""
   ]
  },
  {
   "cell_type": "markdown",
   "id": "42c5262f-9fc4-4fc1-8f65-8eb487506a1f",
   "metadata": {
    "tags": []
   },
   "source": [
    "##### **1. Define the class and its attributes:**"
   ]
  },
  {
   "cell_type": "markdown",
   "id": "b3c258c6-7fd4-4222-8487-b347e817bb32",
   "metadata": {},
   "source": [
    "1. Create a class named `TextAnalyzer`.\n",
    "2. Define the constructor `_init_` method that takes text argument."
   ]
  },
  {
   "cell_type": "code",
   "execution_count": 2,
   "id": "2e948c68-11be-440f-8603-254ca9a28646",
   "metadata": {
    "tags": []
   },
   "outputs": [],
   "source": [
    "class TextAnalyzer(object):\n",
    "\n",
    "    # Constructor\n",
    "    def __init__(self, text):\n",
    "        pass"
   ]
  },
  {
   "cell_type": "markdown",
   "id": "5399d755-a155-4400-bf3f-07831c505a60",
   "metadata": {
    "tags": []
   },
   "source": [
    "##### **2. Formatting the text :**"
   ]
  },
  {
   "cell_type": "markdown",
   "id": "04610006-aef4-4c2a-be6d-193cf8557fdb",
   "metadata": {},
   "source": [
    "1. Constructor: convert the text argument to lowercase using the `lower()` method.\n",
    "2. Remove punctuation marks (',', '.', '!', '?', ';', ':') from the text using the replace() method. \n",
    "3. Assign the formatted text to a new attribute called `fmtText`."
   ]
  },
  {
   "cell_type": "code",
   "execution_count": 3,
   "id": "44532620-817f-4103-820b-b3173b7d8992",
   "metadata": {
    "tags": []
   },
   "outputs": [],
   "source": [
    "class TextAnalyzer(object):\n",
    "\n",
    "    # Constructor\n",
    "    def __init__(self, text):\n",
    "        \n",
    "        # Method: assign text to lowercase\n",
    "        FormattedText = lower.FormattedText()\n",
    "        \n",
    "        # Method: remove punctuation\n",
    "        FormattedText = text.replace(',',' ').replace('.',' ').replace('!',' ').replace('?',' ').replace(';',' ').replace(':',' ').replace('...',' ')\n",
    "        \n",
    "        # Method: assign new attribute fmtText\n",
    "        fmtText = FormattedText"
   ]
  },
  {
   "cell_type": "markdown",
   "id": "b342c4e3-b3a3-4881-ab68-8ed883591f87",
   "metadata": {},
   "source": [
    "##### **3. Frequency of all unique words:**"
   ]
  },
  {
   "cell_type": "markdown",
   "id": "158abd61-6a7e-490a-9b11-63fafc1a27be",
   "metadata": {},
   "source": [
    "* Implement the `freqAll()` method:\n",
    "    1. Split the fmtText attribute into separate words using the `split()` method.\n",
    "    2. Create an empty dictionary to store the word frequency.\n",
    "    3. Iterate over the list of words & update the dictionary with the word frequency accordingly. \n",
    "    4. Use `count` method to count occurence.\n",
    "    5. Return the frequency dictionary."
   ]
  },
  {
   "cell_type": "code",
   "execution_count": 4,
   "id": "1e451e21-fdf6-4023-9b55-e81c91e7bb83",
   "metadata": {
    "tags": []
   },
   "outputs": [],
   "source": [
    "class TextAnalyzer(object):\n",
    "\n",
    "    # Constructor\n",
    "    def __init__(self, text):\n",
    "        \n",
    "        # Method: assign text to lowercase\n",
    "        FormattedText = lower.FormattedText()\n",
    "        \n",
    "        # Method: remove punctuation\n",
    "        FormattedText = text.replace(',',' ').replace('.',' ').replace('!',' ').replace('?',' ').replace(';',' ').replace(':',' '). replace('...',' ')\n",
    "        \n",
    "        # Method: assign new attribute fmtText\n",
    "        fmtText = FormattedText\n",
    "        \n",
    "        # Method: implement freqAll\n",
    "        def freqAll(self):\n",
    "            #split text into words\n",
    "            wordList = self.fmtText.split(' ')\n",
    "            #create dictionary\n",
    "            Dictionary = {}\n",
    "            #for duplicates in list\n",
    "            for word in set(wordList):\n",
    "                Dictionary[word] = wordList.count(word)\n",
    "            return Dictionary"
   ]
  },
  {
   "cell_type": "markdown",
   "id": "d837d962-52a0-4fab-b8d1-1f95041f5da1",
   "metadata": {
    "tags": []
   },
   "source": [
    "##### **4. Frequency of a specific word:**"
   ]
  },
  {
   "cell_type": "markdown",
   "id": "0113b400-602c-424a-91fa-d69b06f8e1ce",
   "metadata": {},
   "source": [
    "* Implement the `freqOf(word)` method that takes word argument:\n",
    "    1. Create method and pass the word that should be found/ \n",
    "    2. Get the `freqAll()` method to look for count and what if that word is in the list. \n",
    "    3. Return the count"
   ]
  },
  {
   "cell_type": "code",
   "execution_count": 14,
   "id": "7021d3fa-a62f-4851-b5e3-2067461eb6f2",
   "metadata": {
    "tags": []
   },
   "outputs": [],
   "source": [
    "class TextAnalyzer(object):\n",
    "\n",
    "    # Constructor\n",
    "    def __init__(self, text):\n",
    "        # Method: assign text to lowercase\n",
    "        FormattedText = text.lower() #FormattedText = lower.FormattedText()\n",
    "        \n",
    "        # Method: remove punctuation\n",
    "        FormattedText = FormattedText.replace(',',' ').replace('.',' ').replace('!',' ').replace('?',' ').replace(';',' ').replace(':',' '). replace('...',' ')\n",
    "        \n",
    "        # Method: assign new attribute fmtText\n",
    "        self.fmtText = FormattedText\n",
    "        \n",
    "    # Method: implement freqAll\n",
    "    def freqAll(self):\n",
    "        #split text into words\n",
    "        wordList = self.fmtText.split(' ')\n",
    "        #create dictionary\n",
    "        Dictionary = {}\n",
    "        #for duplicates in list\n",
    "        for word in wordList:\n",
    "            Dictionary[word] = 1+Dictionary.get(word,0)#wordList.count(word)\n",
    "        return Dictionary\n",
    "    # Method: frequency of a specifif word\n",
    "    def freqOf(self,word):\n",
    "        freqDict = self.freqAll()\n",
    "        if word in freqDict:\n",
    "            return freqDict[word]\n",
    "        return 0\n",
    "        #for word in freqDict:\n",
    "        #    return freqDict[word]\n",
    "        #else:\n",
    "        #    return 0"
   ]
  },
  {
   "cell_type": "markdown",
   "id": "e13319de-5ad3-4287-9bcd-dbd64bfc61b7",
   "metadata": {},
   "source": [
    "##### **5. Create an instance of TextAnalyzer Class:**"
   ]
  },
  {
   "cell_type": "code",
   "execution_count": 15,
   "id": "7744c845-0542-4b97-8ea6-987808c75cff",
   "metadata": {
    "tags": []
   },
   "outputs": [],
   "source": [
    "analyze = TextAnalyzer(string)"
   ]
  },
  {
   "cell_type": "markdown",
   "id": "ab729293-27bb-4529-adf2-a12c58855430",
   "metadata": {},
   "source": [
    "##### **6. Print the formatted text(string in a lower case):**"
   ]
  },
  {
   "cell_type": "code",
   "execution_count": 11,
   "id": "7303d593-6451-4d48-aaac-83091b20b799",
   "metadata": {
    "tags": []
   },
   "outputs": [
    {
     "name": "stdout",
     "output_type": "stream",
     "text": [
      "Formatted text: lorem ipsum dolor  diam amet  consetetur lorem magna  sed diam nonumy eirmod tempor  diam et labore  et diam magna  et diam amet \n"
     ]
    }
   ],
   "source": [
    "print('Formatted text:', analyze.fmtText)"
   ]
  },
  {
   "cell_type": "markdown",
   "id": "10306916-633a-4045-b9ef-3e75dc0e3c51",
   "metadata": {},
   "source": [
    "##### **7. Test `freqAll()` method:**"
   ]
  },
  {
   "cell_type": "code",
   "execution_count": 16,
   "id": "d25be039-2cbd-4ac9-a93f-d3b09eb6279f",
   "metadata": {
    "tags": []
   },
   "outputs": [
    {
     "data": {
      "text/plain": [
       "{'lorem': 2,\n",
       " 'ipsum': 1,\n",
       " 'dolor': 1,\n",
       " '': 7,\n",
       " 'diam': 5,\n",
       " 'amet': 2,\n",
       " 'consetetur': 1,\n",
       " 'magna': 2,\n",
       " 'sed': 1,\n",
       " 'nonumy': 1,\n",
       " 'eirmod': 1,\n",
       " 'tempor': 1,\n",
       " 'et': 3,\n",
       " 'labore': 1}"
      ]
     },
     "execution_count": 16,
     "metadata": {},
     "output_type": "execute_result"
    }
   ],
   "source": [
    "TextAnalyzer(string).freqAll()"
   ]
  },
  {
   "cell_type": "markdown",
   "id": "34ad35e4-4659-4b5c-a30e-fde40f3e7068",
   "metadata": {},
   "source": [
    "##### **8. Test `freqOf()` method:**\n",
    "add words from string to find their frequency"
   ]
  },
  {
   "cell_type": "code",
   "execution_count": 17,
   "id": "d6d8b4e6-7cd2-41a8-9e9a-ecc1dcf4d503",
   "metadata": {
    "tags": []
   },
   "outputs": [
    {
     "name": "stdout",
     "output_type": "stream",
     "text": [
      "Frequency of the word 'lorem' is 2\n"
     ]
    }
   ],
   "source": [
    "word = \"lorem\"\n",
    "frequency = analyze.freqOf(word)\n",
    "print(f\"Frequency of the word '{word}' is {frequency}\")"
   ]
  },
  {
   "cell_type": "code",
   "execution_count": 18,
   "id": "63059621-b0f0-479c-bc43-fbda4eee20b1",
   "metadata": {
    "tags": []
   },
   "outputs": [
    {
     "name": "stdout",
     "output_type": "stream",
     "text": [
      "Frequency of the word 'diam' is 5\n"
     ]
    }
   ],
   "source": [
    "word = \"diam\"\n",
    "frequency = analyze.freqOf(word)\n",
    "print(f\"Frequency of the word '{word}' is {frequency}\")"
   ]
  },
  {
   "cell_type": "code",
   "execution_count": 19,
   "id": "dab669e0-43cf-4535-b585-02d0960c7847",
   "metadata": {
    "tags": []
   },
   "outputs": [
    {
     "name": "stdout",
     "output_type": "stream",
     "text": [
      "Frequency of the word 'et' is 3\n"
     ]
    }
   ],
   "source": [
    "word = \"et\"\n",
    "frequency = analyze.freqOf(word)\n",
    "print(f\"Frequency of the word '{word}' is {frequency}\")"
   ]
  },
  {
   "cell_type": "code",
   "execution_count": 20,
   "id": "5d4bf7a2-f1c2-4d1c-a3de-ba472f090c47",
   "metadata": {
    "tags": []
   },
   "outputs": [
    {
     "data": {
      "text/plain": [
       "0"
      ]
     },
     "execution_count": 20,
     "metadata": {},
     "output_type": "execute_result"
    }
   ],
   "source": [
    "analyze.freqOf('qqq')"
   ]
  }
 ],
 "metadata": {
  "kernelspec": {
   "display_name": "Python",
   "language": "python",
   "name": "conda-env-python-py"
  },
  "language_info": {
   "codemirror_mode": {
    "name": "ipython",
    "version": 3
   },
   "file_extension": ".py",
   "mimetype": "text/x-python",
   "name": "python",
   "nbconvert_exporter": "python",
   "pygments_lexer": "ipython3",
   "version": "3.7.12"
  }
 },
 "nbformat": 4,
 "nbformat_minor": 5
}
