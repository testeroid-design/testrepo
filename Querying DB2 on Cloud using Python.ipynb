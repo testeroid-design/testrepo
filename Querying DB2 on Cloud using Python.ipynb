{
 "cells": [
  {
   "cell_type": "markdown",
   "id": "bf3bbbc4-032e-4b7a-8bec-0f54c2ada1e3",
   "metadata": {},
   "source": [
    "## **Access DB2 on Cloud using Python**"
   ]
  },
  {
   "cell_type": "markdown",
   "id": "e346a0c3-9515-4713-87c8-5b53b06b17e5",
   "metadata": {},
   "source": [
    "**Objectives:**\n",
    "\n",
    "Establishing a connection to a database instance of DB2 Warehouse on Cloud from a Python notebook using ibm_db API following the below tasks:\n",
    "\n",
    "* Create a table\n",
    "* Insert data into the table\n",
    "* Query data from the table\n",
    "* Retrieve the result set into pandas dataframe\n",
    "* Close the dabase connection\n",
    "    \n",
    "    \n",
    "    "
   ]
  },
  {
   "cell_type": "markdown",
   "id": "f4737e72-2935-4518-b472-88fb20cf8f7b",
   "metadata": {},
   "source": [
    "#### 1: Import the `ibm_db` Python library"
   ]
  },
  {
   "cell_type": "code",
   "execution_count": null,
   "id": "893cf8c8-c5a5-4114-af81-a566fbf08ff0",
   "metadata": {
    "tags": []
   },
   "outputs": [],
   "source": [
    "!pip install --force-reinstall ibm_db==3.1.0 ibm_db_sa==0.3.3\n",
    "# Ensure we don't load_ext with sqlalchemy>=1.4 (incompadible)\n",
    "!pip uninstall sqlalchemy==1.4 -y && pip install sqlalchemy==1.3.24\n",
    "!pip install ipython-sql"
   ]
  },
  {
   "cell_type": "code",
   "execution_count": null,
   "id": "a7ee18a8-1e65-44bf-b3b7-134dc7696b6a",
   "metadata": {
    "tags": []
   },
   "outputs": [],
   "source": [
    "import ibm_db"
   ]
  },
  {
   "cell_type": "markdown",
   "id": "8367b148-75b1-4667-891d-241fb39f3d32",
   "metadata": {
    "tags": []
   },
   "source": [
    "#### 2: Identify the database connection credentials"
   ]
  },
  {
   "cell_type": "code",
   "execution_count": null,
   "id": "477d5f93-8576-4cf9-8d3b-c731112613e2",
   "metadata": {
    "tags": []
   },
   "outputs": [],
   "source": [
    "#Replace the placeholder values with the actuals for your Db2 Service Credentials\n",
    "dsn_driver = \"{IBM DB2 ODBC DRIVER}\"\n",
    "dsn_database = \"database\"            # e.g. \"BLUDB\"\n",
    "dsn_hostname = \"hostname\"            # e.g.: \"dashdb-txn-sbox-yp-dal09-04.services.dal.bluemix.net\"\n",
    "dsn_port = \"port\"                    # e.g. \"50000\" \n",
    "dsn_protocol = \"protocol\"            # i.e. \"TCPIP\"\n",
    "dsn_uid = \"username\"                 # e.g. \"abc12345\"\n",
    "dsn_pwd = \"password\"                 # e.g. \"7dBZ3wWt9XN6$o0J\"\n",
    "dsn_security = \"SSL\"              #i.e. \"SSL\""
   ]
  },
  {
   "cell_type": "markdown",
   "id": "de59036c-bcce-4a9a-85a9-b14f0c70167d",
   "metadata": {},
   "source": [
    "#### 3: Create the database connection"
   ]
  },
  {
   "cell_type": "code",
   "execution_count": null,
   "id": "d21cf10c-a36c-4249-a532-9845932fe6c2",
   "metadata": {
    "tags": []
   },
   "outputs": [],
   "source": [
    "#Create database connection\n",
    "\n",
    "dsn = (\n",
    "    \"DRIVER={0};\"\n",
    "    \"DATABASE={1};\"\n",
    "    \"HOSTNAME={2};\"\n",
    "    \"PORT={3};\"\n",
    "    \"PROTOCOL={4};\"\n",
    "    \"UID={5};\"\n",
    "    \"PWD={6};\"\n",
    "    \"SECURITY={7};\").format(dsn_driver, dsn_database, dsn_hostname, dsn_port, dsn_protocol, dsn_uid, dsn_pwd,dsn_security)\n",
    "\n",
    "try:\n",
    "    conn = ibm_db.connect(dsn, \"\", \"\")\n",
    "    print (\"Connected to database: \", dsn_database, \"as user: \", dsn_uid, \"on host: \", dsn_hostname)\n",
    "\n",
    "except:\n",
    "    print (\"Unable to connect: \", ibm_db.conn_errormsg() )\n"
   ]
  },
  {
   "cell_type": "markdown",
   "id": "6b549cf9-7b2b-40d8-89e9-576a857afd01",
   "metadata": {},
   "source": [
    "#### 4: Create a table in the database"
   ]
  },
  {
   "cell_type": "code",
   "execution_count": null,
   "id": "b0b78441-b031-415e-a612-e1f67eb3a87a",
   "metadata": {
    "tags": []
   },
   "outputs": [],
   "source": [
    "#Lets first drop the table INSTRUCTOR in case it exists from a previous attempt\n",
    "dropQuery = \"drop table INSTRUCTOR\"\n",
    "\n",
    "#Now execute the drop statment\n",
    "dropStmt = ibm_db.exec_immediate(conn, dropQuery)"
   ]
  },
  {
   "cell_type": "markdown",
   "id": "8774511c-4f77-4245-b639-275fff687b01",
   "metadata": {
    "tags": []
   },
   "source": [
    "Getting an error `Exception: [IBM][CLI Driver][DB2/LINUXX8664] SQL0204N \"ABC12345.INSTRUCTOR\" is an undefined name. SQLSTATE=42704 SQLCODE=-204` is normal if the table does not exist"
   ]
  },
  {
   "cell_type": "code",
   "execution_count": null,
   "id": "01e1a658-89c5-4642-a267-1d2b3604cccd",
   "metadata": {
    "tags": []
   },
   "outputs": [],
   "source": [
    "#Construct the Create Table DDL statement - replace the ... with rest of the statement\n",
    "createQuery = \"create table INSTRUCTOR(id INTEGER PRIMARY KEY NOT NULL, FNAME VARCHAR(20). LNAME VARCHAR(20), CITY VARCHAR(20), CCODE CHAR(2))\"\n",
    "\n",
    "#Now fill in the name of the method and execute the statement\n",
    "createStmt = ibm_db.replace_with_name_of_execution_method(conn, createQuery)"
   ]
  },
  {
   "cell_type": "markdown",
   "id": "b6e338af-4559-4651-8008-e6371b55e2b3",
   "metadata": {},
   "source": [
    "#### 5: Insert data into the table"
   ]
  },
  {
   "cell_type": "code",
   "execution_count": null,
   "id": "82b945aa-e19a-4f77-8e04-9ce4775b1bc8",
   "metadata": {
    "tags": []
   },
   "outputs": [],
   "source": [
    "#Construct the query - replace ... with the insert statement\n",
    "insertQuery = \"insert into INSTRUCTOR values(1, 'Rav', 'Ahuja', 'Toronto', 'CA')\"\n",
    "\n",
    "#execute the insert statement\n",
    "insertStmt = ibm_db.exec_immediate(conn, insertQuery)"
   ]
  },
  {
   "cell_type": "code",
   "execution_count": null,
   "id": "f3d86773-f97f-4d8b-830e-e1c70de8efd7",
   "metadata": {
    "tags": []
   },
   "outputs": [],
   "source": [
    "#replace ... with the insert statement that inerts the remaining two rows of data\n",
    "insertQuery2 = \"insert into INSTRUCTOR values (2, 'Raul', 'Chong', 'Markham', 'CA'), (3, 'Hima', 'Vasudevan', 'Chicago', 'US')\"\n",
    "\n",
    "#execute the statement\n",
    "insertStmt2 = ibm_db.exec_immediate(conn, insertQuery2)"
   ]
  },
  {
   "cell_type": "markdown",
   "id": "cbc545f3-3816-4b85-b760-27a474f6fcab",
   "metadata": {},
   "source": [
    "#### 6: Query data in the table"
   ]
  },
  {
   "cell_type": "code",
   "execution_count": null,
   "id": "76d01795-0d5c-47b1-9955-ad468a7d94cf",
   "metadata": {},
   "outputs": [],
   "source": [
    "#Construct the query that retrieves all rows from the INSTRUCTOR table\n",
    "selectQuery = \"select * from INSTRUCTOR\"\n",
    "\n",
    "#Execute the statement\n",
    "selectStmt = ibm_db.exec_immediate(conn, selectQuery)\n",
    "\n",
    "#Fetch the Dictionary (for the first row only) - replace ... with your code\n",
    "ibm_db.getch_both(selectStmt)"
   ]
  },
  {
   "cell_type": "code",
   "execution_count": null,
   "id": "17393e31-8f75-4c60-87cd-035620938f97",
   "metadata": {},
   "outputs": [],
   "source": [
    "#Fetch the rest of the rows and print the ID and FNAME for those rows\n",
    "while ibm_db.fetch_row(selectStmt) != False:\n",
    "   print (\" ID:\",  ibm_db.result(selectStmt, 0), \" FNAME:\",  ibm_db.result(selectStmt, \"FNAME\"))"
   ]
  },
  {
   "cell_type": "code",
   "execution_count": null,
   "id": "b9e0c939-71d1-4702-a8d9-5b68745e9d12",
   "metadata": {},
   "outputs": [],
   "source": [
    "# Change City for Rav to Moosetown\n",
    "\n",
    "UpdateQuery = \"update INSTRUCTOR ser CITY = 'Moosetown whare FName = 'Rav'\"\n",
    "UpdateSTMT = ibm_db.exec.immeciate(conn, UpdateQuery)"
   ]
  },
  {
   "cell_type": "markdown",
   "id": "e2e435d1-362f-4121-9d11-9b5992289e1c",
   "metadata": {},
   "source": [
    "#### 7: Retrieve data into Pandas"
   ]
  },
  {
   "cell_type": "code",
   "execution_count": 14,
   "id": "0b3afa6d-a90f-4022-87b4-b4bcba85a635",
   "metadata": {
    "tags": []
   },
   "outputs": [],
   "source": [
    "import pandas\n",
    "import ibm_db_dbi"
   ]
  },
  {
   "cell_type": "code",
   "execution_count": null,
   "id": "264462d8-d3f7-4b97-8f9c-b0d2a2c5db6a",
   "metadata": {},
   "outputs": [],
   "source": [
    "# connection for pandas\n",
    "pconn = ibm_db_dbi.Connection(conn)"
   ]
  },
  {
   "cell_type": "code",
   "execution_count": null,
   "id": "23db42d8-57e3-4575-b926-b4c3ea4fba6c",
   "metadata": {},
   "outputs": [],
   "source": [
    "# query statement to retrieve all rows in INSTRUCTOR table\n",
    "selectQuery = \"select * from INSTRUCTOR\"\n",
    "\n",
    "# retrieve the query results into a pandas dataframe\n",
    "pdf = pandas.read_sql(selectQuery, pconn)\n",
    "\n",
    "# print just the LNAME for first row in the pandas data frame\n",
    "pdf.LNAME[0]"
   ]
  },
  {
   "cell_type": "code",
   "execution_count": 15,
   "id": "67917aad-9feb-4478-a70d-df9f693ea9dd",
   "metadata": {
    "tags": []
   },
   "outputs": [
    {
     "ename": "NameError",
     "evalue": "name 'pdf' is not defined",
     "output_type": "error",
     "traceback": [
      "\u001b[0;31m---------------------------------------------------------------------------\u001b[0m",
      "\u001b[0;31mNameError\u001b[0m                                 Traceback (most recent call last)",
      "\u001b[0;32m/tmp/ipykernel_4019/686824672.py\u001b[0m in \u001b[0;36m<module>\u001b[0;34m\u001b[0m\n\u001b[1;32m      1\u001b[0m \u001b[0;31m# Print the entire data frame\u001b[0m\u001b[0;34m\u001b[0m\u001b[0;34m\u001b[0m\u001b[0;34m\u001b[0m\u001b[0m\n\u001b[0;32m----> 2\u001b[0;31m \u001b[0mpdf\u001b[0m\u001b[0;34m\u001b[0m\u001b[0;34m\u001b[0m\u001b[0m\n\u001b[0m",
      "\u001b[0;31mNameError\u001b[0m: name 'pdf' is not defined"
     ]
    }
   ],
   "source": [
    "# Print the entire data frame\n",
    "pdf"
   ]
  },
  {
   "cell_type": "code",
   "execution_count": null,
   "id": "6227d13f-72f6-44b4-8175-72fe786ef1a6",
   "metadata": {},
   "outputs": [],
   "source": []
  }
 ],
 "metadata": {
  "kernelspec": {
   "display_name": "Python",
   "language": "python",
   "name": "conda-env-python-py"
  },
  "language_info": {
   "codemirror_mode": {
    "name": "ipython",
    "version": 3
   },
   "file_extension": ".py",
   "mimetype": "text/x-python",
   "name": "python",
   "nbconvert_exporter": "python",
   "pygments_lexer": "ipython3",
   "version": "3.7.12"
  }
 },
 "nbformat": 4,
 "nbformat_minor": 5
}
